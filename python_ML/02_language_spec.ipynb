{
 "cells": [
  {
   "cell_type": "code",
   "execution_count": 4,
   "metadata": {
    "scrolled": true
   },
   "outputs": [
    {
     "name": "stdout",
     "output_type": "stream",
     "text": [
      "0.75\n",
      "81\n",
      "1\n",
      "3\n"
     ]
    }
   ],
   "source": [
    "## 1. 주석\n",
    "\n",
    "## python의 주석은 2가지 종류 { #, \"\"\"  \"\"\"}\n",
    "\n",
    "## 2. 내장 상수\n",
    "# True, False(대소문자 구분), None(값이 존재하지 않음을 의미)\n",
    "# 데이터타입을 명시하지 않아도 된다.\n",
    "a = True \n",
    "b = False\n",
    "c = None\n",
    "\n",
    "## 3. built-in data type(내장형)\n",
    "## 3-1. Numeric type(숫자형) - 정수와 실수를 구별하지 않는다.\n",
    "a = 123         # 정수 ,자바는 ;을 마지막에 썼는데 파이썬은 사용하지 않는다.\n",
    "b = 3.145926535 # 실수\n",
    "c = 3.14E10     # 실수(지수의 형태로 표현)\n",
    "\n",
    "div = 3 / 4\n",
    "print(div)      # Java코드라면 0\n",
    "                # 해당 셀의 코드를 실행 하려면 CTRL + Enter\n",
    "                # 파이썬 코드를 실행하면 0.75\n",
    "\n",
    "result = 3 ** 4 # 3의 4제곱(제곱)\n",
    "print(result)\n",
    "\n",
    "result = 10 % 3  # 나머지 연산 : %\n",
    "print(result)\n",
    "\n",
    "result = 10 // 3 # 나눗셈의 몫 : //\n",
    "print(result)\n"
   ]
  },
  {
   "cell_type": "code",
   "execution_count": 34,
   "metadata": {},
   "outputs": [
    {
     "name": "stdout",
     "output_type": "stream",
     "text": [
      "이것은소리없는아우성\n",
      "이것은100\n",
      "pythonpythonpython\n",
      "True\n",
      "나는 사과 5개. 바나나 여섯개 가지고 있어요\n",
      "    HOBBY\n",
      "    hobby\n",
      "hoBBy\n"
     ]
    }
   ],
   "source": [
    "## 2. Built-in type : Text Sequence type : str\n",
    "## 문자열 생성방법\n",
    "\n",
    "# Java는 문자열 ( \" \" )과 문자( '' )의 구분이 있다.\n",
    "# python은 문자열과 문자의 구분이 없다.( \" \", ' ' )\n",
    "a = \"안녕하세요\"\n",
    "b = '소리없는 아우성'\n",
    "\n",
    "c = \"\"\"여러줄에 걸친\n",
    "문자열도\n",
    "만들 수 있다.\"\"\"\n",
    "\n",
    "# 문자열 연산, indexing, slicing\n",
    "first = \"이것은\"\n",
    "second = \"소리없는\"\n",
    "third = \"아우성\"\n",
    "print(first + second + third)\n",
    "number = 100\n",
    "print(first + str(number)) # 데이터 타입이 틀릴 때 \n",
    "                          # 자바는 자동으로 형변환을 해주는데 파이썬은 그렇지 않다.\n",
    "                          # 파이썬은 수동으로 호출해줘야한다.\n",
    "# 문자열에 대해서 곱하기 연산\n",
    "text = \"python\"\n",
    "print(text*3)\n",
    "\n",
    "# SampleText\n",
    "# sample_text = \"Show me the Money!\"\n",
    "# str(문자열) => Text Sequence Type\n",
    "# print(sample_text[0])  # 파이썬에서는 Array라는 단어를 쓰지 않는다. \n",
    "                         # index를이용해서 표현, index에 -가 들어올수 있다. \n",
    "# print(sample_text[-1]) # 끝에서부터 첫번째\n",
    "# print(sample_text[1:3])  # 슬라이싱할때 앞은 포함, 뒤는 불포함\n",
    "# print(sample_text[:3])   # 슬라이싱 부분에 앞의 숫자가 생략되면 처음부터\n",
    "                           # 뒤의 숫자가 생략되면 끝까지\n",
    "    \n",
    "# print(sample_text[3:]) \n",
    "# print(sample_text[:])      # 모든 문자열 처음부터 끝까지\n",
    "\n",
    "# 문자열 연산 in, not in\n",
    "sample_text = \"Show me the Money!\"\n",
    "# print(\"sample\" in sample_text) \n",
    "print(\"sample\" not in sample_text) \n",
    "\n",
    "# 문자열 formatting\n",
    "# apple = 30\n",
    "# my_text = \"나는 사과를 %d개 가지고 있어요\" %apple\n",
    "# print(my_text)\n",
    "\"\"\"\n",
    "한번에 주석처리하는 법 : 영역선택 후 ctrl + / \n",
    "\"\"\"\n",
    "apple = 5\n",
    "banana = \"여섯\"\n",
    "my_text = \"나는 사과 %d개. 바나나 %s개 가지고 있어요\" %(apple,banana) \n",
    "print(my_text)\n",
    "\n",
    "# 문자열 내장 함수\n",
    "# sample_text = \"cocacola\"\n",
    "# print(len(sample_text))        # 문자열의 길이 : len() , 자바는 length함수\n",
    "# print(sample_text.count(\"c\"))  # 특정 문자열이 몇번 나오는지 count\n",
    "# print(sample_text.find(\"o\"))   # 특정 문자열이 처음나오는 index를 리턴 \n",
    "# print(sample_text.find(\"x\"))   # 만약 찾는 문자열이 없으면 -1리턴\n",
    "\n",
    "# a = \":\"\n",
    "# b = \"abcd\"\n",
    "# print(a.join(b)) # => a:b:c:d , join : 문자열사이사이에 끼워서 \n",
    "\n",
    "a = \"    hoBBy\"\n",
    "print(a.upper()) # 모두 대문자로 변환\n",
    "print(a.lower()) # 모두 소문자로 변환\n",
    "print(a.strip()) # 문자열의 앞, 뒤 공백을 제거"
   ]
  },
  {
   "cell_type": "code",
   "execution_count": 34,
   "metadata": {
    "scrolled": true
   },
   "outputs": [
    {
     "name": "stdout",
     "output_type": "stream",
     "text": [
      "1\n",
      "6\n",
      "[2, [3, 4, 5]]\n",
      "[1, 2, 3, 4, 5, 6]\n",
      "[1, 2, 3, 1, 2, 3, 1, 2, 3]\n",
      "[5, 2, 3]\n",
      "[[9, 9, 9], 2, 3]\n",
      "[9, 9, 9, 2, 3]\n",
      "[1, 2, 6, 7]\n",
      "[1, 2, 3]\n",
      "[1, 2, 3, 4]\n",
      "[1, 2, 3, 4, 5, 6, 7]\n",
      "[1, 2, 3, 7, 8]\n",
      "[8, 7, 3, 2, 1]\n",
      "2\n"
     ]
    }
   ],
   "source": [
    "# Python Sequence Type : list        \n",
    "# 파이썬에서는 array가 없다 , \n",
    "# Java에서 Arraylist와 상당히 유사\n",
    "\n",
    "# list 생성 - list함수를 이용해서\n",
    "a = list()   # 공백 리스트를 생성.\n",
    "a = []       # 공백 리스트를 생성.\n",
    "a = [1,2,3]  # 일반적인 리스트 생성.\n",
    "a = [1,2,3,\"안녕하세요\",3.141592,False] # 여러 타입을 사용 가능\n",
    "a = [1,2,[3,4,5],6,7]\n",
    "\n",
    "# indexing 과 slicing list에서 사용 가능. (문자열 사용과 유사)\n",
    "print(a[0])\n",
    "print(a[-2])  \n",
    "print(a[1:3])\n",
    "\n",
    "# list의 연산\n",
    "a = [1,2,3]\n",
    "b = [4,5,6]\n",
    "print(a + b) # list에서 + 는 list와 list를 연결시켜서 하나의 긴 list를 만들어줌\n",
    "print(a * 3)\n",
    "\n",
    "a =  [1,2,3]\n",
    "a[0] = 5\n",
    "print(a)\n",
    "\n",
    "a[0] = [9,9,9]\n",
    "print(a)\n",
    "\n",
    "a[0:1] = [9,9,9]\n",
    "print(a)\n",
    "\n",
    "a = [1,2,3,4,5,6,7]\n",
    "# 위의 list를 [1,2,6,7]로 변형 하려면?\n",
    "a[2:5] = []\n",
    "print(a)\n",
    "\n",
    "\"\"\" 자동완성 => tab누르면됨!! \"\"\"\n",
    "\n",
    "# 리스트의 사용 함수\n",
    "my_list = [1,2,3]\n",
    "print(my_list)\n",
    "\n",
    "my_list.append(4) # 맨 마지막 인덱스에 값을 추가\n",
    "print(my_list)\n",
    "\n",
    "# my_list.append([5,6,7])\n",
    "# print(my_list)\n",
    "\n",
    "my_list.extend([5,6,7])\n",
    "print(my_list)\n",
    "# append 와 extend 는 완전히 틀린거임 / 자주사용되는 함수\n",
    "\n",
    "# 입력했을 떄 녹색이 나오면 예약어 , 에약어를 변수로 만들면 안된다.\n",
    "my_list = [7,3,1,8,2]\n",
    "my_list.sort() # 기본으로 오름차순으로 정렬된다.하지만 결과를 리턴하지 않고 원본을 제어함.\n",
    "print(my_list)\n",
    "\n",
    "my_list.reverse() # 내림차순으로 정렬. 리스트를 역으로 만드는 거 \n",
    "print(my_list)\n",
    "\n",
    "my_list = [7,3,1,8,2]\n",
    "print(my_list.index(1)) # index() 함수는 찾는 값의 위치를 리턴해준다."
   ]
  },
  {
   "cell_type": "code",
   "execution_count": 49,
   "metadata": {},
   "outputs": [
    {
     "name": "stdout",
     "output_type": "stream",
     "text": [
      "10\n",
      "2\n",
      "(3, 4)\n",
      "(1, 2, 3, 5, 6, 7)\n",
      "(1, 2, 3, 1, 2, 3, 1, 2, 3)\n",
      "(1, 2, 3)\n",
      "[10, 20, 30, 40]\n"
     ]
    }
   ],
   "source": [
    "# 셀만드는 거 b키 누르면 됨\n",
    "\n",
    "# Python Sequence Type : Tuple    \n",
    "# list와 상당히 유사.\n",
    "# 표현방법이 다르다,!! 원본을 수정, 삭제가 불가능.(list와 차이점)\n",
    "# list의 표현방법 :  []대괄호, tuple의 표현방법 : ()소괄호\n",
    "a = ()\n",
    "a = (1,2,3)   # [1,2,3]\n",
    "a = (1,)      #[1]\n",
    "              # 요소가 1개 있을 때 tuple을 표현하려면 콤마를 사용하면 된다.\n",
    "              # a = (1,)\n",
    "a = (1,2,3,4) # tuple\n",
    "              # tuple은 ()을 생략할 수 있다.\n",
    "a = 1,2,3,4\n",
    "\n",
    "a,b,c = 10,20,30\n",
    "print(a)\n",
    "\n",
    "# indexing과 slicing 둘 다 사용 할 수 있다.\n",
    "a = (1,2,3,4)\n",
    "print(a[1])    # 2출력\n",
    "print(a[2:4])  # (3,4)출력\n",
    "\n",
    "# 리스트와 마찬가지로 +, * 연산이 가능\n",
    "a = (1,2,3)\n",
    "b = (5,6,7)\n",
    "print(a + b)\n",
    "print(a * 3)\n",
    "\n",
    "# list 와 tuple간의 변환\n",
    "my_list = [1,2,3]\n",
    "my_tuple = tuple(my_list)\n",
    "print(my_tuple)\n",
    "\n",
    "my_tuple = 10,20,30,40\n",
    "my_list = list(my_tuple)\n",
    "print(my_list)"
   ]
  },
  {
   "cell_type": "code",
   "execution_count": 60,
   "metadata": {},
   "outputs": [
    {
     "name": "stdout",
     "output_type": "stream",
     "text": [
      "range(0, 10)\n",
      "False\n",
      "19\n",
      "range(10, 16, 3)\n",
      "10\n",
      "12\n",
      "14\n",
      "16\n",
      "18\n"
     ]
    }
   ],
   "source": [
    "# Python Sequence Type :  range\n",
    "# range는 숫자 sequence로 주로 for문에서 사용\n",
    "\n",
    "# range의 인자가 1개이면 0부터 시작, 1씩 증가\n",
    "my_range = range(10) # 앞 : 포함 안됨 시작 , 뒤 : 끝 포함\n",
    "print(my_range)\n",
    "\n",
    "# range의 인자가 3개이면 시작,끝 증감을 의미\n",
    "my_range = range(10,20,3) \n",
    "print(12 in my_range)\n",
    "\n",
    "# range도 list나 tuple처럼 indexing 과 slicing 이 가능함\n",
    "my_range = range(10,20,3) \n",
    "print(my_range[-1])\n",
    "print(my_range[:2]) # 처음부터 0.1\n",
    "\n",
    "# range를 이용한 for문 - 자바처럼 작성하지 않는다. 파이썬은 중괄호를 쓰지 않는다\n",
    "\"\"\"\n",
    "for(i=0;i<10;i++)\n",
    "    print(\"Hi\")  # 자바형식\n",
    "\"\"\"    \n",
    "for tmp in range(10,20,2):\n",
    "    print(tmp) # 인덴트 처리 중요!\n"
   ]
  },
  {
   "cell_type": "code",
   "execution_count": 68,
   "metadata": {},
   "outputs": [
    {
     "name": "stdout",
     "output_type": "stream",
     "text": [
      "<class 'dict'>\n",
      "{'name': '홍길동', 'age': 30, 100: '홍길동'}\n",
      "{'name': '홍길동', 100: '홍길동'}\n",
      "{'name': '홍길동', 'age': 40}\n",
      "dict_keys(['name', 'age', 'address'])\n",
      "name. 홍길동\n",
      "age. 30\n",
      "address. 서울\n"
     ]
    }
   ],
   "source": [
    "# Python mapping Type :  dict  - hashMap생각하면됨!\n",
    "\n",
    "# 표현법은 JSON표현과 유사 {key : value} \n",
    "# { \"name\" : \"홍길동\", \"age\" : 30 }\n",
    "my_dict = { \"name\" : \"홍길동\", \"age\" : 30 }\n",
    "print(type(my_dict))\n",
    "\n",
    "# 새로운 key:value를 추가할 경우 \n",
    "my_dict[100] = \"홍길동\"\n",
    "print(my_dict)\n",
    "\n",
    "# 특정 key를 삭제 할 경우\n",
    "del my_dict[\"age\"]\n",
    "print(my_dict)\n",
    "\n",
    "# key값이 중복되는 경우\n",
    "my_dict = {\"name\" : \"홍길동\", \"age\" : 30, \"age\" : 40}\n",
    "print(my_dict)\n",
    "\n",
    "# keys() : dict의 key값들만 뽑아낸다.  키값의 집합\n",
    "my_dict = {\"name\" : \"홍길동\", \"age\" : 30, \"address\" : \"서울\" }\n",
    "print(my_dict.keys())\n",
    "# 리턴값은 key값들의 리스트처럼 생긴 객체.\n",
    "# list와 유사하지만 list의 함수는 사용할 수 없다.\n",
    "\n",
    "# values() : dict의 value값들만 뽑아낸다.  값들의 집합\n",
    "# items() : (key,value)의 형태로 구성된 리스트처럼 생긴 객체를 리턴.\n",
    "\n",
    "my_dict = {\"name\" : \"홍길동\", \"age\" : 30, \"address\" : \"서울\" }\n",
    "# for문을 이용하여 모든 key와 그에 대한 value값을 출력\n",
    "# for ~~~~~ in ~~~~: 구문을 이용해서\n",
    "for key in my_dict.keys():\n",
    "    print(\"{0}. {1}\".format(key, my_dict[key]))"
   ]
  },
  {
   "cell_type": "code",
   "execution_count": 1,
   "metadata": {},
   "outputs": [
    {
     "name": "stdout",
     "output_type": "stream",
     "text": [
      "{1, 2, 3}\n",
      "{'o', 'e', 'l', 'H'}\n",
      "{4, 5}\n",
      "{1, 2, 3, 4, 5, 6, 7, 8}\n",
      "{1, 2, 3}\n",
      "{1, 2, 3, 4, 5, 10}\n",
      "{1, 2, 3, 4, 5, 7, 8, 9, 10}\n",
      "{2, 3, 4, 5, 7, 8, 9, 10}\n"
     ]
    }
   ],
   "source": [
    "# Python set Type :  set   내장형타입\n",
    "# set의 가장 큰 특징 : 중복을 허용하지 않는 저장장소,\n",
    "#                      순서가 없는 저장구조,\n",
    "\n",
    "my_set = set([1,2,3]) # set 생성 => {1,2,3}\n",
    "print(my_set)\n",
    "\n",
    "my_set = set(\"Hello\") # {\"H\", \"e\", \"l\", \"o\"}  ㅣ은 중복허용안하기 떄문에 한개만\n",
    "print(my_set)\n",
    "\n",
    "# 기본적인 set 연산(교집합, 합집합, 차집합)\n",
    "s1 = {1, 2, 3, 4, 5}\n",
    "s2 = {4, 5, 6, 7, 8}\n",
    "\n",
    "print(s1 & s2)  # 교집합(intersection)\n",
    "print(s1 | s2)  # 합집합(union)\n",
    "print(s1 - s2)  # 차집합(differences)\n",
    "\n",
    "# 기타 사용가능한 method\n",
    "my_set = {1, 2, 3, 4, 5}\n",
    "\n",
    "# set에 새로운 요소를 추가하려면 : add\n",
    "my_set.add(10)\n",
    "print(my_set)\n",
    "\n",
    "# set에 여러개를 추가하려면 : update\n",
    "my_set.update([7,8,9])\n",
    "print(my_set)\n",
    "\n",
    "# set에서 삭제할 경우 : remove                                 \n",
    "my_set.remove(1)\n",
    "print(my_set)"
   ]
  },
  {
   "cell_type": "code",
   "execution_count": null,
   "metadata": {},
   "outputs": [],
   "source": [
    "# Python Data Type :  bool \n",
    "# 논리 상수인 True, False 를 사용\n",
    "# 다음과 같은 경우는 False로 간주\n",
    "# 1. 빈 문자열은 논리연산시 False(\"\")\n",
    "# 2. 빈 리스트([]), 빈 튜플(()), 빈 딕셔너리({})\n",
    "# 3. 숫자 0 False 간주, 나머지 다른 숫자 True 간주\n",
    "# 4. None => False 간주"
   ]
  },
  {
   "cell_type": "code",
   "execution_count": 2,
   "metadata": {},
   "outputs": [
    {
     "name": "stdout",
     "output_type": "stream",
     "text": [
      "숫자를 입력하세요!1000\n",
      "3000\n"
     ]
    }
   ],
   "source": [
    "# Python의 console 입출력\n",
    "input_value = input(\"숫자를 입력하세요!\")\n",
    "# 입력받은 값은 무조건 문자열.\n",
    "# eval() : 문자열을 숫자연산처리, 문자열을 연산할 수 있다.\n",
    "\n",
    "result = eval(input_value) * 3\n",
    "print(result)"
   ]
  },
  {
   "cell_type": "code",
   "execution_count": 11,
   "metadata": {},
   "outputs": [
    {
     "name": "stdout",
     "output_type": "stream",
     "text": [
      "부산\n"
     ]
    }
   ],
   "source": [
    "area = [\"seoul\", \"suwon\", \"pusan\"] # list\n",
    "\n",
    "# if문 \n",
    "if \"suwon111\" in area:\n",
    "    # 수행할 코드를 여기에 작성\n",
    "    pass # 이 조건에 대해서 할일이 없을 때 사용\n",
    "elif \"pusan\" in area:   #else if = elif\n",
    "    print(\"부산\")\n",
    "else:\n",
    "    print(\"마지막입니다.!\")"
   ]
  },
  {
   "cell_type": "code",
   "execution_count": 7,
   "metadata": {},
   "outputs": [
    {
     "name": "stdout",
     "output_type": "stream",
     "text": [
      "오늘의 날짜 : 2019-07-02\n",
      "연도 : 2019, 월 : 7, 일 : 2\n",
      "2019-07-02 09:20:19.799608\n"
     ]
    }
   ],
   "source": [
    "# python data type - 날짜(date, time, datetime)\n",
    "from datetime import date, time, datetime\n",
    "\n",
    "# 현재 날짜 알아보기\n",
    "today = date.today()\n",
    "print(\"오늘의 날짜 : \" + str(today))\n",
    "\n",
    "print(\"연도 : {0}, 월 : {1}, 일 : {2}\".format(today.year, today.month, today.day)) \n",
    "\n",
    "today = datetime.today()\n",
    "print(today) # 자바의 util.date 생각하면됨"
   ]
  },
  {
   "cell_type": "code",
   "execution_count": 13,
   "metadata": {},
   "outputs": [
    {
     "name": "stdout",
     "output_type": "stream",
     "text": [
      "2019-05-02\n",
      "2019-07-02 06:38:34.985250\n"
     ]
    }
   ],
   "source": [
    "# 기억해야될 모듈 2가지정도\n",
    "## 날짜 연산 date는 날짜만 datetime은 날짜랑 시간 둘다 구함\n",
    "\n",
    "from datetime import date, time, datetime, timedelta\n",
    "from dateutil.relativedelta import relativedelta\n",
    "     # 패키지      \n",
    "         \n",
    "\n",
    "# 오늘의 날짜 구하기\n",
    "today = date.today()\n",
    "# 날짜 간격\n",
    "# days = timedelta(days=-100) # 음수 : 전날 ,양수 : 다음날\n",
    "\n",
    "# days = timedelta(months=-2) # 두달전 , 년(year)과 월(month)은 안된다,=> 오휴남, 다른 모듈이용해야함 일, 시간, 분, 초만 해당함\n",
    "days = relativedelta(months=-2) # 년, 월은 relativedelta 사용해야함\n",
    "print(today + days)\n",
    "\n",
    "# 오늘날짜와 현재시간 구하기\n",
    "today = datetime.today()\n",
    "delta = timedelta(hours=-3)\n",
    "print(today + delta)"
   ]
  },
  {
   "cell_type": "code",
   "execution_count": 27,
   "metadata": {},
   "outputs": [
    {
     "name": "stdout",
     "output_type": "stream",
     "text": [
      "tmp : 0 tmp : 1 tmp : 2 tmp : 3 tmp : 4 tmp : 5 tmp : 6 tmp : 7 tmp : 8 tmp : 9 "
     ]
    }
   ],
   "source": [
    "## print 문 사용\n",
    "for tmp in range(10) : # 자바 for each 형태\n",
    "    print(\"tmp : {}\".format(tmp), end =\" \") # + 기호 덜쓰고 .format 사용하기\n",
    "    \n",
    "# print 함수는 기본적으로 출력한다음 한줄을 넘어간다.\n",
    "# print 함수의 마지막 인자로 출력에 대한 제어를 할수 있다. : ,end"
   ]
  },
  {
   "cell_type": "code",
   "execution_count": 32,
   "metadata": {},
   "outputs": [
    {
     "name": "stdout",
     "output_type": "stream",
     "text": [
      "합계 : 15\n",
      "[2, 4, 6, 8, 10]\n",
      "[4, 8]\n"
     ]
    }
   ],
   "source": [
    "## for 구문\n",
    "my_list = [1,2,3,4,5]\n",
    "my_sum = 0\n",
    "\n",
    "# for tmp in my_list: # 들여쓰기를 통해 {} 역할을함\n",
    "#     my_sum += tmp\n",
    "\n",
    "for tmp in range(len(my_list)):\n",
    "    my_sum += my_list[tmp]\n",
    "    \n",
    "print(\"합계 : {}\".format(my_sum))\n",
    "\n",
    "my_list = [1,2,3,4,5]\n",
    "new_list = [tmp * 2 for tmp in my_list] # 리스트를 만들때 리스트안에 for문이 들어갈 수 있다.\n",
    "print(new_list)\n",
    "\n",
    "my_list = [1,2,3,4,5]\n",
    "new_list = [tmp * 2 for tmp in my_list if tmp % 2 == 0] \n",
    "print(new_list)"
   ]
  },
  {
   "cell_type": "code",
   "execution_count": 55,
   "metadata": {},
   "outputs": [
    {
     "name": "stdout",
     "output_type": "stream",
     "text": [
      "False\n",
      "True\n",
      "11\n",
      "idx : 0, item : 1\n",
      "idx : 1, item : 2\n",
      "idx : 2, item : 3\n",
      "idx : 3, item : 4\n",
      "idx : 4, item : 5\n",
      "[2, 3, 5, 7, 8, 9]\n",
      "[2, 3, 5, 7, 8, 9]\n",
      "60\n",
      "150\n",
      "30 200\n"
     ]
    }
   ],
   "source": [
    "## python의 기본 자료구조(자료형)\n",
    "# python의 제어문(if, for) swith문은 없다.\n",
    "# 함수- 단위코드의 집합 / 메서드- 인스턴스가 가지고 있는 \n",
    "# 함수\n",
    "\n",
    "# python의 함수는 2가지 종류가 있다.\n",
    "# 1. 사용자 정의 함수\n",
    "# 2. 내장 함수\n",
    "\n",
    "# 내장 함수의 종류\n",
    "# len() : 개수를 알려준다.\n",
    "# abs() : 숫자에 대한 절대값을 알려준다.\n",
    "\n",
    "# all() : 반복가능한 자료형에 대해서 모두가 참이면 True\n",
    "my_list = [1,2,True,\"Hello\",0]\n",
    "print(all(my_list))\n",
    "# any() : 반복가능ㅎ한 자료형에 대해서 단 한개라도 참이면 True\n",
    "print(any(my_list))\n",
    "# eval() : 실행가능한 문자열을 입력받아서 수치연산을 수행\n",
    "print(eval(\"3+4*2\"))\n",
    "# int() : 정수로 변환, list() : 리스트로 변환\n",
    "# tuple() : tuple로 변환, str() : 문자열로 변환\n",
    "\n",
    "my_list = [1,2,3,4,5]\n",
    "for idx,item in enumerate(my_list): #  튜플 (idx,tmp) ()생략가능\n",
    "    print(\"idx : {0}, item : {1}\".format(idx,item))\n",
    "    \n",
    "# 정렬에 대한 내장함수\n",
    "my_list = [7,3,9,2,8,5]  # 정렬이 안된 리스트를 준비\n",
    "result = sorted(my_list) # 정렬된 결과가 리턴되고 원본객체는 변환이 되지 않는다.\n",
    "print(result)\n",
    "\n",
    "# 정렬에 대한 method \n",
    "my_list = [7,3,9,2,8,5] # 정렬이 안된 리스트를 준비\n",
    "my_list.sort()          # instance의 method를 호출 - 해당 인스턴스에 영향 , 자바에서는 필드 파이썬에서는 property\n",
    "                        # instance를 제어하고 return : None\n",
    "print(my_list)\n",
    "    \n",
    "# 사용자 정의 함수를 만들어 보아요~ def = define 정의하다\n",
    "def  my_sum(a,b,c):\n",
    "    return a+b+c\n",
    "\n",
    "result = my_sum(10,20,30)\n",
    "print(result)\n",
    "\n",
    "# 만약에 인자의 개수를 알지 못하는 경우라면?  / * : 인자의 개수 상관없이 해당함수 이름만 맞으면 호출\n",
    "# 입력인자를 tuple의 형태로 받는다.\n",
    "def my_sum_1(*args):\n",
    "    result = 0\n",
    "    for tmp in args:\n",
    "        result += tmp\n",
    "    return result\n",
    "\n",
    "result = my_sum_1(10,20,30,40,50)\n",
    "print(result)\n",
    "\n",
    "# 파이썬은 함수의 리턴값이 2개 이상일 수 있어요.(X) 실제로는 그렇지 않다. - 튜플때문에 그렇게 보이는 것임\n",
    "def my_func(a,b):\n",
    "    result1 = a+b\n",
    "    result2 = a*b\n",
    "    return result1, result2 # (result1, result2) ()생략, 튜플을 리턴하는 것임\n",
    "\n",
    "res1, res2 = my_func(10,20)\n",
    "print(res1, res2)"
   ]
  },
  {
   "cell_type": "code",
   "execution_count": 56,
   "metadata": {},
   "outputs": [
    {
     "name": "stdout",
     "output_type": "stream",
     "text": [
      "103\n"
     ]
    }
   ],
   "source": [
    "## 사용자 정의 함수 : scope\n",
    "# 전역변수(global variable)와 지역변수(local variable)\n",
    "\n",
    "tmp = 100 # 전역변수\n",
    "\n",
    "def my_func(x):\n",
    "    # tmp # 지역변수 - 초기화를 해줘야지 사용가능, 오류가 발생하지 않는다.\n",
    "    global tmp # 전역변수를 지칭\n",
    "    tmp += x\n",
    "    return tmp\n",
    "\n",
    "print(my_func(3))"
   ]
  },
  {
   "cell_type": "code",
   "execution_count": 69,
   "metadata": {},
   "outputs": [
    {
     "name": "stdout",
     "output_type": "stream",
     "text": [
      "국적 : 한국, 이름 : 홍길동\n"
     ]
    }
   ],
   "source": [
    "## Python의 객체지향\n",
    "## class 정의하고 사용해 보기!\n",
    "\n",
    "# class \n",
    "# 1. 현실세계의 개체를 프로그래밍적으로 모델링하기 위해서 사용하는 수단\n",
    "# =>  객체모델링의 수단\n",
    "# 2. 새로운 데이터 타입을 만드는 수단\n",
    "\n",
    " # {}대신에 indent사용\n",
    "class Student: \n",
    "    # property(field)\n",
    "    s_nation = \"국적\"  # 자바에서 class variable : static\n",
    "                       # 클래스 안에서 공유\n",
    "        \n",
    "    # Constructor(생성자) - 함수형태로 이름정해져있음 __init__\n",
    "    def __init__(self,n,nation): # self : 자바에서 this 의 의미\n",
    "        Student.s_nation = nation # class variable\n",
    "        self.s_name = n           # instance variable\n",
    "    \n",
    "    # method\n",
    "    def display(self):\n",
    "        print(\"국적 : {0}, 이름 : {1}\".format(self.s_nation, self.s_name))\n",
    "        \n",
    "# instance 생성\n",
    "stu1 = Student(\"홍길동\",\"한국\")\n",
    "stu1.display()\n"
   ]
  },
  {
   "cell_type": "code",
   "execution_count": 5,
   "metadata": {},
   "outputs": [
    {
     "name": "stdout",
     "output_type": "stream",
     "text": [
      "30\n",
      "30\n"
     ]
    }
   ],
   "source": [
    "## python - Module\n",
    "## Module : 함수, 변수, class를 모아놓은 파일\n",
    "## 다른 python 프로그램에서 불러와 사용할 수 있도록 만들어진 python 파일을 지침\n",
    "## Module을 만들면 모듈을 불러다가 사용해야 한다.\n",
    "## 이때 사용하는 keyword는 import\n",
    "\n",
    "# import my_module \n",
    "# print(my_module.my_sum(10,20))\n",
    "\n",
    "# import my_module as m1   # as :  별명을 줄수 있음\n",
    "# print(m1.my_sum(10,20))\n",
    "\n",
    "# from my_module import my_sum\n",
    "# print(my_sum(10,20))\n",
    "\n",
    "# 패키지 - 폴더를 만들어서 그안에 모듈을 관리,보관\n",
    "\n",
    "import my_package.my_module\n",
    "print(my_package.my_module.my_sum(10,20))\n",
    "\n",
    "from my_package import my_module\n",
    "print(my_module.my_sum(10,20))\n",
    "\n",
    "############################################\n",
    "# 학습한 부분에 대한 정리\n",
    "# 연습문제 6개, 해결할 수 있도록"
   ]
  }
 ],
 "metadata": {
  "kernelspec": {
   "display_name": "Python [conda env:cpu_env] *",
   "language": "python",
   "name": "conda-env-cpu_env-py"
  },
  "language_info": {
   "codemirror_mode": {
    "name": "ipython",
    "version": 3
   },
   "file_extension": ".py",
   "mimetype": "text/x-python",
   "name": "python",
   "nbconvert_exporter": "python",
   "pygments_lexer": "ipython3",
   "version": "3.6.8"
  }
 },
 "nbformat": 4,
 "nbformat_minor": 2
}
