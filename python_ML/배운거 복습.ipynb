{
 "cells": [
  {
   "cell_type": "code",
   "execution_count": 20,
   "metadata": {},
   "outputs": [
    {
     "name": "stdout",
     "output_type": "stream",
     "text": [
      "이것은소리없는\n",
      "이것은이것은이것은\n",
      "s\n",
      "y\n",
      "ow\n",
      "show me the money\n",
      "False\n",
      "나는 사과를 10개 가지고 있어요!\n",
      "나는 사과를 다섯개 가지고 있어요!\n",
      "나는 사과를 다섯개, 바나나 10개 가지고 있어요!\n",
      "10\n"
     ]
    }
   ],
   "source": [
    "# 한줄 줄석은 # 기호를 이용해서 표현\n",
    "# 여러 줄 주석은 ‘’’ ’’’ (“”” ”””)\n",
    "\n",
    "# 2. 기억해야 하는 내장 상수\n",
    "# True : False가 존재 함 (대소문자 구분)\n",
    "# None : 값이 존재 하지 않아 라는 의미의 상수 \n",
    "\n",
    "# 3, Built-in type (내장형)\n",
    "# 3-1. Number type (숫자형)\n",
    "a = 123\n",
    "a = 3.1415192\n",
    "a = 3.14E10\n",
    "a = 0xEE # (16진수)\n",
    "a = 0o55 # (8진수)\n",
    "\n",
    "a = 3 / 4 # 결과가 0.75로 실수가 나온다. 파이썬 버전 2.x 와 3.x 는 호환이 되지않는다.\n",
    "# 몫을 구할 때는 “//” , 나머지를 구할 때는 “%”\n",
    "\n",
    "# 3-2. Text Sequence Type (str)\n",
    "\n",
    "# 기본적인 문자열 표현\n",
    "# 문자열 연결\n",
    "print(\"이것은\" + \"소리없는\") \n",
    "print(\"이것은\" * 3)\n",
    "\n",
    "# 문자열의 indexing, slicing\n",
    "# indexing : 배열을 생각하면 된당.\n",
    "a = \"show me the money\"\n",
    "print(a[0])   # indexing\n",
    "print(a[-1])  # index의 값이 음수면 뒤에서부터 위치 계산\n",
    "print(a[2:4]) # slicing. 앞에 불포함 뒤에 포함\n",
    "print(a[:])   #  숫자를 비워두게 되면 a 전체를 복사\n",
    "\n",
    "# in 연산자 - 논리연산\n",
    "a = \"Hello\"\n",
    "print(\"e\" not in a)\n",
    "\n",
    "# 문자열 포매팅은 상당히 여러 방법이 있다.\n",
    "sample = \"나는 사과를 %d개 가지고 있어요!\" %10 \n",
    "print(sample)\n",
    "sample = \"나는 사과를 {}개 가지고 있어요!\" .format(\"다섯\") # 중괄호 {}를 이용 - 어떤형식의 매핑도 가능함 , \n",
    "                                                           # {}안에 원래 숫자를 넣어주어야한다. 0은 의미 없으니까 생략\n",
    "print(sample)\n",
    "sample = \"나는 사과를 {0}개, 바나나 {1}개 가지고 있어요!\" .format(\"다섯\",10) # 제일 많이 사용되는 방법\n",
    "print(sample)\n",
    "\n",
    "# 많이 사용되는 문자열 함수에 대해서도 기억해야 한다.\n",
    "sample = \"sampleText\" \n",
    "print(len(sample)) # len()함수 파이썬이 가지고 있는 내장함수 - 글 사이즈 , 자바처럼 sample.len()식으로 쓰면 안된다!!\n"
   ]
  }
 ],
 "metadata": {
  "kernelspec": {
   "display_name": "Python [conda env:cpu_env] *",
   "language": "python",
   "name": "conda-env-cpu_env-py"
  },
  "language_info": {
   "codemirror_mode": {
    "name": "ipython",
    "version": 3
   },
   "file_extension": ".py",
   "mimetype": "text/x-python",
   "name": "python",
   "nbconvert_exporter": "python",
   "pygments_lexer": "ipython3",
   "version": "3.6.8"
  }
 },
 "nbformat": 4,
 "nbformat_minor": 2
}
