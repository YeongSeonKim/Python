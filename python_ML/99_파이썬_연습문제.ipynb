{
 "cells": [
  {
   "cell_type": "code",
   "execution_count": 93,
   "metadata": {},
   "outputs": [
    {
     "name": "stdout",
     "output_type": "stream",
     "text": [
      "554\n"
     ]
    }
   ],
   "source": [
    "# 1번 문제\n",
    "# 입력 숫자문자열 , 개수 7이상 11이하\n",
    "\n",
    "input_str = \"7652310\"\n",
    "\n",
    "    \n",
    "# 1) 중앙의 수 2를 기준으로 765 와 310분리\n",
    "\n",
    "# num = input_str.split(\"2\")\n",
    "# print(num)\n",
    "\n",
    "# s1 = input_str[:3]\n",
    "# print(s1)\n",
    "# s2 = input_str[4:]\n",
    "# print(s2)\n",
    "\n",
    "# 중간 위치의 index\n",
    "middle = len(input_str) // 2 # \"2\"의 index를 알아냈다.\n",
    "    \n",
    "front = input_str[:middle]    # \"765\"\n",
    "back =input_str[middle+1:]    # \"310\"\n",
    "\n",
    "# 2) 분리된 두 수를 각각 거꾸로 뒤집는다. \n",
    "\n",
    "front = list(front)           # [\"7\",\"6\",\"5\"]\n",
    "back = list(back)             # [\"3\",\"1\",\"0\"]\n",
    "\n",
    "front.reverse()                 # [\"5\",\"6\",\"7\"]\n",
    "back.reverse()                  # [\"0\",\"1\",\"3\"]\n",
    "\n",
    "front = int(\"\".join(front))        # \"567\" => 567\n",
    "back = int(\"\".join(back))          # \"013\" => 13\n",
    "\n",
    "# 3) 큰 수인 567에서 작은 수인 13을 뺸다.\n",
    "\n",
    "print(abs(front - back))"
   ]
  },
  {
   "cell_type": "code",
   "execution_count": 8,
   "metadata": {},
   "outputs": [],
   "source": [
    "# 2번 문제\n",
    "\n",
    "input_str = \"6118266283093\"\n",
    "a = \" | \"\n",
    "# 1. 숫자열 뒤에서부터 두자리 끊는 거\n",
    "# num = len(input_str) // 7\n",
    "\n",
    "# num1 = input_str[:num]\n",
    "# num2 = input_str[num:num+2]\n",
    "# num3 = input_str[num+2:num+4]\n",
    "\n",
    "\n",
    "# print(num1)\n",
    "# print(num2)\n",
    "# print(num3)\n",
    "\n",
    "# num1 = list(num1)\n",
    "# print(num1)\n",
    "\n",
    "# input_str = list(input_str)\n",
    "# print(input_str)\n",
    "\n",
    "# input_str = a.join(input_str)\n",
    "# print(input_str)\n",
    "\n",
    "\n",
    "num_list = [\"6118266283093\",\"20445610\",\"389593\",\"284281569493\",\"22686448\"]\n",
    "\n",
    "\n",
    "print(\"=>가장 많은 짝수 개수 : \")"
   ]
  },
  {
   "cell_type": "code",
   "execution_count": null,
   "metadata": {},
   "outputs": [],
   "source": [
    "# 3번 문제\n",
    "input_str = \"N12345DJ4954G99H87KAU9889EL4234GO312l199\"\n",
    "\n",
    "print(\"[입력] : \")\n",
    "print(\"[숫자 출력] :\")\n",
    "print(\"[개수가 가장 많은 숫자]\")"
   ]
  },
  {
   "cell_type": "code",
   "execution_count": null,
   "metadata": {},
   "outputs": [],
   "source": [
    "# 4번 문제\n",
    "x = 5\n",
    "y = 500 \n",
    "\n",
    "print(\"[총 개수]\")"
   ]
  },
  {
   "cell_type": "code",
   "execution_count": null,
   "metadata": {},
   "outputs": [],
   "source": [
    "# 5번 문제\n",
    "\n",
    "\n",
    "print(\"[덧셈 연산 결과]\")"
   ]
  },
  {
   "cell_type": "code",
   "execution_count": null,
   "metadata": {},
   "outputs": [],
   "source": [
    "# 6번 문제\n",
    "\n",
    "print()"
   ]
  }
 ],
 "metadata": {
  "kernelspec": {
   "display_name": "Python [conda env:cpu_env] *",
   "language": "python",
   "name": "conda-env-cpu_env-py"
  },
  "language_info": {
   "codemirror_mode": {
    "name": "ipython",
    "version": 3
   },
   "file_extension": ".py",
   "mimetype": "text/x-python",
   "name": "python",
   "nbconvert_exporter": "python",
   "pygments_lexer": "ipython3",
   "version": "3.6.8"
  }
 },
 "nbformat": 4,
 "nbformat_minor": 2
}
