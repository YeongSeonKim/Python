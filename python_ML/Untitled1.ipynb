{
 "cells": [
  {
   "cell_type": "code",
   "execution_count": 4,
   "metadata": {
    "scrolled": true
   },
   "outputs": [
    {
     "name": "stdout",
     "output_type": "stream",
     "text": [
      "0.75\n",
      "81\n",
      "1\n",
      "3\n"
     ]
    }
   ],
   "source": [
    "## 1. 주석\n",
    "\n",
    "## python의 주석은 2가지 종류 { #, \"\"\"  \"\"\"}\n",
    "\n",
    "## 2. 내장 상수\n",
    "# True, False(대소문자 구분), None(값이 존재하지 않음을 의미)\n",
    "# 데이터타입을 명시하지 않아도 된다.\n",
    "a = True \n",
    "b = False\n",
    "c = None\n",
    "\n",
    "## 3. built-in data type(내장형)\n",
    "## 3-1. Numeric type(숫자형) - 정수와 실수를 구별하지 않는다.\n",
    "a = 123         # 정수 ,자바는 ;을 마지막에 썼는데 파이썬은 사용하지 않는다.\n",
    "b = 3.145926535 # 실수\n",
    "c = 3.14E10     # 실수(지수의 형태로 표현)\n",
    "\n",
    "div = 3 / 4\n",
    "print(div)      # Java코드라면 0\n",
    "                # 해당 셀의 코드를 실행 하려면 CTRL + Enter\n",
    "                # 파이썬 코드를 실행하면 0.75\n",
    "\n",
    "result = 3 ** 4 # 3의 4제곱(제곱)\n",
    "print(result)\n",
    "\n",
    "result = 10 % 3  # 나머지 연산 : %\n",
    "print(result)\n",
    "\n",
    "result = 10 // 3 # 나눗셈의 몫 : //\n",
    "print(result)\n"
   ]
  },
  {
   "cell_type": "code",
   "execution_count": 34,
   "metadata": {},
   "outputs": [
    {
     "name": "stdout",
     "output_type": "stream",
     "text": [
      "이것은소리없는아우성\n",
      "이것은100\n",
      "pythonpythonpython\n",
      "True\n",
      "나는 사과 5개. 바나나 여섯개 가지고 있어요\n",
      "    HOBBY\n",
      "    hobby\n",
      "hoBBy\n"
     ]
    }
   ],
   "source": [
    "## 2. Built-in type : Text Sequence type : str\n",
    "## 문자열 생성방법\n",
    "\n",
    "# Java는 문자열 ( \" \" )과 문자( '' )의 구분이 있다.\n",
    "# python은 문자열과 문자의 구분이 없다.( \" \", ' ' )\n",
    "a = \"안녕하세요\"\n",
    "b = '소리없는 아우성'\n",
    "\n",
    "c = \"\"\"여러줄에 걸친\n",
    "문자열도\n",
    "만들 수 있다.\"\"\"\n",
    "\n",
    "# 문자열 연산, indexing, slicing\n",
    "first = \"이것은\"\n",
    "second = \"소리없는\"\n",
    "third = \"아우성\"\n",
    "print(first + second + third)\n",
    "number = 100\n",
    "print(first + str(number)) # 데이터 타입이 틀릴 때 \n",
    "                          # 자바는 자동으로 형변환을 해주는데 파이썬은 그렇지 않다.\n",
    "                          # 파이썬은 수동으로 호출해줘야한다.\n",
    "# 문자열에 대해서 곱하기 연산\n",
    "text = \"python\"\n",
    "print(text*3)\n",
    "\n",
    "# SampleText\n",
    "# sample_text = \"Show me the Money!\"\n",
    "# str(문자열) => Text Sequence Type\n",
    "# print(sample_text[0])  # 파이썬에서는 Array라는 단어를 쓰지 않는다. \n",
    "                         # index를이용해서 표현, index에 -가 들어올수 있다. \n",
    "# print(sample_text[-1]) # 끝에서부터 첫번째\n",
    "# print(sample_text[1:3])  # 슬라이싱할때 앞은 포함, 뒤는 불포함\n",
    "# print(sample_text[:3])   # 슬라이싱 부분에 앞의 숫자가 생략되면 처음부터\n",
    "                           # 뒤의 숫자가 생략되면 끝까지\n",
    "    \n",
    "# print(sample_text[3:]) \n",
    "# print(sample_text[:])      # 모든 문자열 처음부터 끝까지\n",
    "\n",
    "# 문자열 연산 in, not in\n",
    "sample_text = \"Show me the Money!\"\n",
    "# print(\"sample\" in sample_text) \n",
    "print(\"sample\" not in sample_text) \n",
    "\n",
    "# 문자열 formatting\n",
    "# apple = 30\n",
    "# my_text = \"나는 사과를 %d개 가지고 있어요\" %apple\n",
    "# print(my_text)\n",
    "\"\"\"\n",
    "한번에 주석처리하는 법 : 영역선택 후 ctrl + / \n",
    "\"\"\"\n",
    "apple = 5\n",
    "banana = \"여섯\"\n",
    "my_text = \"나는 사과 %d개. 바나나 %s개 가지고 있어요\" %(apple,banana) \n",
    "print(my_text)\n",
    "\n",
    "# 문자열 내장 함수\n",
    "# sample_text = \"cocacola\"\n",
    "# print(len(sample_text))        # 문자열의 길이 : len() , 자바는 length함수\n",
    "# print(sample_text.count(\"c\"))  # 특정 문자열이 몇번 나오는지 count\n",
    "# print(sample_text.find(\"o\"))   # 특정 문자열이 처음나오는 index를 리턴 \n",
    "# print(sample_text.find(\"x\"))   # 만약 찾는 문자열이 없으면 -1리턴\n",
    "\n",
    "# a = \":\"\n",
    "# b = \"abcd\"\n",
    "# print(a.join(b)) # => a:b:c:d , join : 문자열사이사이에 끼워서 \n",
    "\n",
    "a = \"    hoBBy\"\n",
    "print(a.upper()) # 모두 대문자로 변환\n",
    "print(a.lower()) # 모두 소문자로 변환\n",
    "print(a.strip()) # 문자열의 앞, 뒤 공백을 제거"
   ]
  }
 ],
 "metadata": {
  "kernelspec": {
   "display_name": "Python [conda env:cpu_env] *",
   "language": "python",
   "name": "conda-env-cpu_env-py"
  },
  "language_info": {
   "codemirror_mode": {
    "name": "ipython",
    "version": 3
   },
   "file_extension": ".py",
   "mimetype": "text/x-python",
   "name": "python",
   "nbconvert_exporter": "python",
   "pygments_lexer": "ipython3",
   "version": "3.6.8"
  }
 },
 "nbformat": 4,
 "nbformat_minor": 2
}
