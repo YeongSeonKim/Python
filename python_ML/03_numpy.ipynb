{
 "cells": [
  {
   "cell_type": "code",
   "execution_count": 2,
   "metadata": {},
   "outputs": [],
   "source": [
    "# 2019 - 07 -03\n",
    "## Numpy - 외부에서 해당 라이브러리를 다운받아야지 사용가능하다.\n",
    "## Numeric Python \n",
    "## Vector, Matrix연산에 상당한 편의성을 제공 \n",
    "\"\"\"\n",
    "데이터베이스 => 2차원형태의 Matrix\n",
    "\"\"\"\n",
    "## Numpy는 그 자체로 의미가 있다기 보다는 \n",
    "## 다른 module의 기본 자료구조로 이용\n",
    "## pandas외 matplotlib의 기본 자료구조로 이용\n",
    "\n",
    "## Numpy의 자료구조 \n",
    "## => 대부분 2차원이상의 다차원배열(n-dimensional array)이용 => ndarray\n",
    "## ndarray는 python의 list와 상당히 유사\n",
    "## 주요 차이점 : ndarrays는 같은 데이터 타입을 사용 ,list는 다른타입 사용가능\n",
    "## list보다는 메모리 사용이나 속도면에서 상당히 좋다!! \n",
    "\n",
    "import numpy as np"
   ]
  },
  {
   "cell_type": "code",
   "execution_count": 16,
   "metadata": {},
   "outputs": [
    {
     "name": "stdout",
     "output_type": "stream",
     "text": [
      "[1, 2, 3, 4]\n",
      "<class 'list'>\n",
      "1\n",
      "<class 'int'>\n",
      "[1 2 3 4]\n",
      "<class 'numpy.ndarray'>\n",
      "1\n",
      "<class 'numpy.int32'>\n",
      "int32\n",
      "['100' '3.14' 'Hello' 'True']\n",
      "<U32\n"
     ]
    }
   ],
   "source": [
    "# nbarray와 list 비교\n",
    "\n",
    "#import 구문의 위치는 중요X => 하지만 최상단에 자바처럼관리하는게 편리함\n",
    "\n",
    "import numpy as np  # 공통적으로 numpy의 약어는 np를 많이사용\n",
    "\n",
    "#list를 만들어 보아용~!\n",
    "my_list = [1,2,3,4]\n",
    "print(my_list)\n",
    "print(type(my_list))  #데이터 타입 확인 : type() 내장함수 사용\n",
    "print(my_list[0])\n",
    "print(type(my_list[0]))\n",
    "\n",
    "# numpy array(ndarray)를 만들어 보아용! \n",
    "my_arr = np.array([1,2,3,4]) # () 안에는 파이썬의 리스트나 튜플이 들어감\n",
    "print(my_arr)  #  vector,1차원배열로 출력\n",
    "print(type(my_arr)) \n",
    "print(my_arr[0])\n",
    "print(type(my_arr[0]))\n",
    "print(my_arr.dtype)  # dtype 속성 : 배열안에서 데이터타입이 무엇인지 알수 있음 \n",
    "\n",
    "\"\"\"\n",
    "주요 차이 :  데이터 타입이 다름 / 수치연산을 할때는 데이터타입 조심!\n",
    "\"\"\"\n",
    "\n",
    "# 두번째 numpy array(ndarray)를 만들어 보아용! \n",
    "my_arr = np.array([100, 3.14, \"Hello\", True]) # 같은데이터타입으로 맞춰줘야함\n",
    "                                              # str(문자열) 로 맞워서 \n",
    "print(my_arr)\n",
    "print(my_arr.dtype) # <U32 , 유니코드출력\n",
    "\n",
    "\n"
   ]
  },
  {
   "cell_type": "code",
   "execution_count": 24,
   "metadata": {
    "scrolled": true
   },
   "outputs": [
    {
     "name": "stdout",
     "output_type": "stream",
     "text": [
      "[[1, 2, 3], [4, 5, 6]]\n",
      "[[1. 2. 3.]\n",
      " [4. 5. 6.]]\n",
      "5\n",
      "5.0\n"
     ]
    }
   ],
   "source": [
    "import numpy as np # 위 cell에서 입력해서 입력안해도 상관없음\n",
    "my_list = [[1,2,3],[4,5,6]] # 2차원형태의 리스트\n",
    "# nbarray 생성 시 데이터 타입을 명시해서 생성할 수 있다.\n",
    "arr = np.array(my_list,dtype=np.float64) # 데이터타입 => numpy가 가지고 있는 형태로\n",
    "print(my_list)\n",
    "print(arr)\n",
    "\n",
    "# matrix를 access함\n",
    "print(my_list[1][1])\n",
    "print(arr[1,1])\n"
   ]
  },
  {
   "cell_type": "code",
   "execution_count": 31,
   "metadata": {
    "scrolled": true
   },
   "outputs": [
    {
     "name": "stdout",
     "output_type": "stream",
     "text": [
      "1\n",
      "(4,)\n",
      "4\n",
      "[[1 2]\n",
      " [3 4]\n",
      " [5 6]]\n",
      "2\n",
      "(3, 2)\n",
      "6\n",
      "3\n"
     ]
    },
    {
     "data": {
      "text/plain": [
       "'\\n가장 많이 사용되는거 : shape\\n'"
      ]
     },
     "execution_count": 31,
     "metadata": {},
     "output_type": "execute_result"
    }
   ],
   "source": [
    "import numpy as np\n",
    "\n",
    "my_list = [1,2,3,4]\n",
    "arr = np.array(my_list) # 1차원의 numpy array가 생성 - vector\n",
    "print(arr.ndim) # numpy가 몇차원의 데이터인지 알려줌\n",
    "print(arr.shape) # numpy array의 형태를 tuple로 표현 / (4,) : 인자가 하나있는 배열 - 1차원배열\n",
    "print(arr.size) # numpy array안의 요소 개수 , 차원상관없이\n",
    "\n",
    "my_list = [[1,2],[3,4],[5,6]]\n",
    "arr = np.array(my_list) # 2차원형태의 numpy array가 생성- matrix\n",
    "print(arr)\n",
    "print(arr.ndim)  # numpy array의 차원을 알려줌\n",
    "print(arr.shape) # numpy array의 형태를 tuple로 표현\n",
    "print(arr.size) # numpy array안의 요소 개수 \n",
    "print(len(arr)) # size와 비교해서 알아두기! \n",
    "\n",
    "\"\"\"\n",
    "가장 많이 사용되는거 : shape - 알아낼때 많이사용\n",
    "3차원배열 :행,열,깊이 4차원배열: 행,열,깊이,차원\n",
    "\"\"\""
   ]
  },
  {
   "cell_type": "code",
   "execution_count": 36,
   "metadata": {
    "scrolled": true
   },
   "outputs": [
    {
     "name": "stdout",
     "output_type": "stream",
     "text": [
      "[[ 1  2  3]\n",
      " [ 4  5  6]\n",
      " [ 7  8  9]\n",
      " [10 11 12]]\n",
      "(4, 3)\n",
      "[ 1  2  3  4  5  6  7  8  9 10 11 12]\n",
      "[[[ 1  2  3]\n",
      "  [ 4  5  6]]\n",
      "\n",
      " [[ 7  8  9]\n",
      "  [10 11 12]]]\n"
     ]
    }
   ],
   "source": [
    "import numpy as np\n",
    "\n",
    "my_list = [[1,2,3],[4,5,6],[7,8,9],[10,11,12]]\n",
    "arr = np.array(my_list)\n",
    "print(arr)\n",
    "print(arr.shape) # (4, 3)\n",
    "\n",
    "arr.shape = (12, ) # tuple표현 1차원배열로\n",
    "print(arr)\n",
    "\n",
    "arr.shape = (2,2,3) # tuple표현 3차원배열로\n",
    "print(arr) "
   ]
  },
  {
   "cell_type": "code",
   "execution_count": 56,
   "metadata": {},
   "outputs": [
    {
     "name": "stdout",
     "output_type": "stream",
     "text": [
      "[[ 1  2  3]\n",
      " [ 4  5  6]\n",
      " [ 7  8  9]\n",
      " [10 11 12]]\n",
      "\n",
      "1 2 3 \n",
      "4 5 6 \n",
      "7 8 9 \n",
      "10 11 12 "
     ]
    }
   ],
   "source": [
    "import numpy as np\n",
    "\n",
    "my_list = [[1,2,3],[4,5,6],[7,8,9],[10,11,12]]\n",
    "arr = np.array(my_list)\n",
    "\n",
    "print(arr)\n",
    "\n",
    "# for문을 적절히 이용해서 numpy array안의 데이터를 \n",
    "# 행렬형태로 출력하세요\n",
    "# 1  2  3\n",
    "# 4  5  6 \n",
    "# 7  8  9\n",
    "# 10 11 12\n",
    "\n",
    "for i in range(arr.shape[0]):\n",
    "    print()\n",
    "    for j in range(arr.shape[1]):\n",
    "        print(arr[i,j], end=\" \")"
   ]
  },
  {
   "cell_type": "code",
   "execution_count": 61,
   "metadata": {
    "scrolled": true
   },
   "outputs": [
    {
     "name": "stdout",
     "output_type": "stream",
     "text": [
      "float64\n",
      "[ 1.2  3.4  5.5  7.9 10.3]\n",
      "[ 1  3  5  7 10]\n"
     ]
    }
   ],
   "source": [
    "import numpy as np\n",
    "\n",
    "arr = np.array([1.2,3.4,5.5,7.9,10.3])\n",
    "print(arr.dtype) # 정수 int32 실수 float64\n",
    "print(arr)\n",
    "\n",
    "# numpy array dtype를 변환할 때 사용 : astype()\n",
    "my_arr = arr.astype(np.int32) # 반올림을 하지않고 버림함.\n",
    "print(my_arr)"
   ]
  },
  {
   "cell_type": "code",
   "execution_count": 181,
   "metadata": {
    "scrolled": true
   },
   "outputs": [
    {
     "name": "stdout",
     "output_type": "stream",
     "text": [
      "[1 2 3 4 5]\n",
      "[[0. 0. 0. 0.]\n",
      " [0. 0. 0. 0.]\n",
      " [0. 0. 0. 0.]]\n",
      "[[1. 1. 1. 1.]\n",
      " [1. 1. 1. 1.]\n",
      " [1. 1. 1. 1.]]\n",
      "[[0. 0. 0.]\n",
      " [0. 0. 0.]\n",
      " [0. 0. 0.]\n",
      " [0. 0. 0.]\n",
      " [0. 0. 0.]]\n",
      "[[9. 9. 9. 9.]\n",
      " [9. 9. 9. 9.]\n",
      " [9. 9. 9. 9.]]\n"
     ]
    }
   ],
   "source": [
    "# numpy array를 다양한 방식으로 만들어 보아요!\n",
    "import numpy as np\n",
    "\n",
    "arr = np.array([1,2,3,4,5]) # 일반적인 생성방법\n",
    "print(arr)\n",
    "\n",
    "# zeros() : 0으로 채우는 거\n",
    "arr = np.zeros((3,4)) # shape를 알려줘야 한다. shape은 tuple로 표현\n",
    "print(arr)\n",
    "\n",
    "# ones() : 1로 채우는 거\n",
    "arr = np.ones((3,4)) # shape를 알려줘야 한다. shape은 tuple로 표현\n",
    "print(arr)\n",
    "\n",
    "# empty() : 초기값은 주지 않고 생성하는데 garbage값이 들어간다.\n",
    "arr = np.empty((5,3)) # shape를 알려줘야 한다. shape은 tuple로 표현\n",
    "print(arr)\n",
    "\n",
    "# full(),값 : 값을 주면 그 값을 채우는거 / full(행,열),값 형식으로\n",
    "arr = np.full((3,4),9,dtype=np.float64) # shape를 알려줘야 한다. shape은 tuple로 표현\n",
    "print(arr)\n"
   ]
  },
  {
   "cell_type": "code",
   "execution_count": 83,
   "metadata": {},
   "outputs": [
    {
     "name": "stdout",
     "output_type": "stream",
     "text": [
      "[0 2 4 6 8]\n",
      "[0 1 2 3 4 5 6 7 8 9]\n",
      "[1.3 2.3 3.3 4.3 5.3 6.3]\n"
     ]
    }
   ],
   "source": [
    "import numpy as np\n",
    "\n",
    "# 내가 정한 영역안에 내가 원하는 간격으로 numpy생성가능 - 파이썬의 range 생각하면됨!\n",
    "\n",
    "# arange의 인자로 (0,10,2)를  사용했는데\n",
    "# 0은 포함, 10은 포함하지 않고 간격은 2\n",
    "arr = np.arange(0,10,2)\n",
    "print(arr)\n",
    "\n",
    "arr = np.arange(10)\n",
    "print(arr)\n",
    "\n",
    "# 실수형태\n",
    "arr = np.arange(1.3,7.2) # 간격 생략 : 1임\n",
    "print(arr)"
   ]
  },
  {
   "cell_type": "code",
   "execution_count": 95,
   "metadata": {
    "scrolled": true
   },
   "outputs": [
    {
     "name": "stdout",
     "output_type": "stream",
     "text": [
      "[10. 11. 12. 13. 14. 15. 16. 17. 18. 19. 20.]\n"
     ]
    },
    {
     "data": {
      "image/png": "[encoded data removed]",
      "text/plain": [
       "<Figure size 432x288 with 1 Axes>"
      ]
     },
     "metadata": {
      "needs_background": "light"
     },
     "output_type": "display_data"
    }
   ],
   "source": [
    "import numpy as np\n",
    "import matplotlib.pyplot as plt\n",
    " # chart 그려주는 모듈 (외부모듈) : matplotlib 설치\n",
    "    \n",
    "# linspace() : start부터 end까지 범위에서 주어진 num개의 간격으로 데이터를 생성하고 싶을 때\n",
    "arr = np.linspace(10,20,11) # 0부터 10까지 11개가 있도록 \n",
    "print(arr)\n",
    "\n",
    "# chart 그리기\n",
    "# plot() : 선 그래프\n",
    "plt.plot(arr, \"o\")\n",
    "# show() : 화면에 보이도록 출력하게 해주는 거\n",
    "plt.show()\n",
    "\n",
    "\"\"\"\n",
    "☆데이터 분석☆\n",
    "\n",
    "97  94  37  87  29  100\n",
    "=> 중간값 => 평균 (74)\n",
    "=> 편차 => 각 값에서 평균으 뺀 값\n",
    "23  20  -37  ..  ...  ... \n",
    "=> 편차의 합은 0으로 떨어짐 -> 각각의 편차의 제곱의 합을 이용(분산), 분산이크다 = 편차가크다 (데이터들이 동떨어져있음) \n",
    "                                                                     분산이작다 = 편차가작다\n",
    "=> 편차의 제곱의 합을 구해서 데이터의 분포를 확인하는데 사용 => 분산\n",
    "표준편차\n",
    "통계에 대한 개념\n",
    "\n",
    "\"\"\""
   ]
  },
  {
   "cell_type": "code",
   "execution_count": 107,
   "metadata": {
    "scrolled": true
   },
   "outputs": [
    {
     "data": {
      "image/png": "[encoded data removed]",
      "text/plain": [
       "<Figure size 432x288 with 1 Axes>"
      ]
     },
     "metadata": {
      "needs_background": "light"
     },
     "output_type": "display_data"
    }
   ],
   "source": [
    "import numpy as np\n",
    "import matplotlib.pyplot as plt\n",
    "\n",
    "# numpy array를 만드는데 난수를 이용해서 numpy array를 만드려면 어떻게 해야하나요?\n",
    "# 1. np.random.nomal()\n",
    "# 정규분포를 이용한 난수를 발생시키고 이를 이용해서 numpy 배열을 생성\n",
    "\n",
    "# np.random.normal(평균, 표준편차, shape)\n",
    "my_mean = 100\n",
    "my_std = 10\n",
    "arr = np.random.normal(my_mean,my_std,(1000,)) # 표준편차가 10인\n",
    "# print(arr)\n",
    "\n",
    "# hist() : 그래프 차트그리기\n",
    "plt.hist(arr,bins=10) # bins : 최댓값과 최소값의 간격\n",
    "plt.show()\n",
    "\n",
    "\n"
   ]
  },
  {
   "cell_type": "code",
   "execution_count": 117,
   "metadata": {
    "scrolled": true
   },
   "outputs": [
    {
     "data": {
      "image/png": "[encoded data removed]",
      "text/plain": [
       "<Figure size 432x288 with 1 Axes>"
      ]
     },
     "metadata": {
      "needs_background": "light"
     },
     "output_type": "display_data"
    }
   ],
   "source": [
    "import numpy as np\n",
    "import matplotlib.pyplot as plt\n",
    "\n",
    "# np.random.rand() : 균등분포로 난수를 생성할 때 사용\n",
    "\n",
    "# [0,1) [ : 이상 , ) : 미만 / 0이상 1미안의 실수 / 인자의 개수를 가지고 몇차 배열인지 알 수 있음\n",
    "arr = np.random.rand(1000)\n",
    "plt.hist(arr,bins=10)\n",
    "plt.show()\n",
    "\n"
   ]
  },
  {
   "cell_type": "code",
   "execution_count": 118,
   "metadata": {
    "scrolled": false
   },
   "outputs": [
    {
     "data": {
      "image/png": "[encoded data removed]",
      "text/plain": [
       "<Figure size 432x288 with 1 Axes>"
      ]
     },
     "metadata": {
      "needs_background": "light"
     },
     "output_type": "display_data"
    }
   ],
   "source": [
    "import numpy as np\n",
    "import matplotlib.pyplot as plt\n",
    "\n",
    "# np.random.randn() : 표준정규분포에서 난수를 추출하여 numpy array를 만들때 사용\n",
    "# 표준 정규 분포 : 평균이 0이고 표준편차가 1인 정규분포\n",
    "\n",
    "# [0,1) [ : 이상 , ) : 미만 / 0이상 1미안의 실수 / 인자의 개수를 가지고 몇차 배열인지 알 수 있음\n",
    "arr = np.random.randn(1000)\n",
    "plt.hist(arr,bins=10)\n",
    "plt.show()\n"
   ]
  },
  {
   "cell_type": "code",
   "execution_count": 121,
   "metadata": {
    "scrolled": true
   },
   "outputs": [
    {
     "data": {
      "image/png": "[encoded data removed]",
      "text/plain": [
       "<Figure size 432x288 with 1 Axes>"
      ]
     },
     "metadata": {
      "needs_background": "light"
     },
     "output_type": "display_data"
    }
   ],
   "source": [
    "import numpy as np\n",
    "import matplotlib.pyplot as plt\n",
    "\n",
    "# np.random.randint() : 균등분포로 주어진 범위에서 정수형 난수를 발생, range를 줘서 발생시킴\n",
    "\n",
    "# [0,1) [ : 이상 , ) : 미만 / 0이상 1미안의 실수 / 인자의 개수를 가지고 몇차 배열인지 알 수 있음\n",
    "arr = np.random.randint(-100,100,(1000,)) # -100에서 100까지 1차원형태로 1000개\n",
    "plt.hist(arr,bins=10)\n",
    "plt.show()"
   ]
  },
  {
   "cell_type": "code",
   "execution_count": 137,
   "metadata": {},
   "outputs": [
    {
     "name": "stdout",
     "output_type": "stream",
     "text": [
      "[ 8  3  7 15 16]\n"
     ]
    }
   ],
   "source": [
    "import numpy as np\n",
    "\n",
    "# np.random.seed(숫자) : 초기값 고정\n",
    "np.random.seed(100)\n",
    "arr = np.random.randint(0,20,(5,))\n",
    "print(arr)"
   ]
  },
  {
   "cell_type": "code",
   "execution_count": 147,
   "metadata": {
    "scrolled": false
   },
   "outputs": [
    {
     "name": "stdout",
     "output_type": "stream",
     "text": [
      "[ 0  1  2  3  4  5  6  7  8  9 10 11]\n",
      "(12,)\n",
      "[[ 0  1  2  3  4  5]\n",
      " [ 6  7  8  9 10 11]]\n",
      "[ 0  1  2  3  4  5  6  7  8  9 10 11]\n",
      "[[ 0  1  2]\n",
      " [ 3  4  5]\n",
      " [ 6  7  8]\n",
      " [ 9 10 11]]\n",
      "[100   1   2   3   4   5   6   7   8   9  10  11]\n",
      "[[100   1   2]\n",
      " [  3   4   5]\n",
      " [  6   7   8]\n",
      " [  9  10  11]]\n",
      "[ 0  1  2  3  4  5  6  7  8  9 10 11]\n",
      "[[ 0  1  2]\n",
      " [ 3  4  5]\n",
      " [ 6  7  8]\n",
      " [ 9 10 11]]\n",
      "[100   1   2   3   4   5   6   7   8   9  10  11]\n",
      "[[ 0  1  2]\n",
      " [ 3  4  5]\n",
      " [ 6  7  8]\n",
      " [ 9 10 11]]\n"
     ]
    }
   ],
   "source": [
    "import numpy as np\n",
    "\n",
    "# 특정 범위를 잡아서 numpt array만들기\n",
    "arr = np.arange(0,12,1)\n",
    "print(arr)\n",
    "print(arr.shape)\n",
    "\n",
    "# numpy  array의 shape를 변경하려면?\n",
    "arr.shape = (2,6)\n",
    "print(arr)\n",
    "# 위의 코드처럼 shape를 직접 변경해서 사용할 수 있지만\n",
    "# 이렇게 사용하는 경우는 거의 없다. 다른 방법 이용 => reshape()\n",
    "\n",
    "arr = np.arange(0,12,1)\n",
    "arr_1 = arr.reshape(4,3) # 4행3열 \n",
    "# 함수를 호출함으로써 원본은 그래도 있고 그곳에 데이터를 투입시키는 새로운 numpy array View가 생성된다. \n",
    "\"\"\"\n",
    "데이터를 변경하는게 아니라 원본을 공유하면서 원본의 형태만 변경해서 \n",
    "사용하면 메모리를 효율적으로 사용가능하게 한다. 공유해서 사용 , 원본은 그대로 유지됨\n",
    "\"\"\"\n",
    "# 복사본이 아님!!! 복사하면 메모리 많이 차지함.\n",
    "print(arr)\n",
    "print(arr_1)\n",
    "arr[0] = 100\n",
    "\n",
    "print(arr)\n",
    "print(arr_1)\n",
    "\n",
    "\n",
    "# cpoy() 함수를 사용해서 배열복사 /복사본을 만드려면 copy()를 사용하면된다.\n",
    "arr = np.arange(0,12,1)\n",
    "arr_1 = arr.reshape(4,3).copy()\n",
    "\n",
    "# 새로운 numpy array View가 생성된다.\n",
    "print(arr)\n",
    "print(arr_1)\n",
    "arr[0] = 100\n",
    "\n",
    "print(arr)\n",
    "print(arr_1)\n",
    "\n"
   ]
  },
  {
   "cell_type": "code",
   "execution_count": 154,
   "metadata": {
    "scrolled": true
   },
   "outputs": [
    {
     "name": "stdout",
     "output_type": "stream",
     "text": [
      "[ 0  1  2  3  4  5  6  7  8  9 10 11]\n",
      "[[ 0  1  2  3  4  5  6  7  8  9 10 11 12 13 14 15 16 17 18 19]\n",
      " [20 21 22 23 24 25 26 27 28 29 30 31 32 33 34 35 36 37 38 39]\n",
      " [40 41 42 43 44 45 46 47 48 49 50 51 52 53 54 55 56 57 58 59]\n",
      " [60 61 62 63 64 65 66 67 68 69 70 71 72 73 74 75 76 77 78 79]\n",
      " [80 81 82 83 84 85 86 87 88 89 90 91 92 93 94 95 96 97 98 99]]\n",
      "[ 0  1  2  3  4  5  6  7  8  9 10 11 12 13 14 15 16 17 18 19 20 21 22 23\n",
      " 24 25 26 27 28 29 30 31 32 33 34 35 36 37 38 39 40 41 42 43 44 45 46 47\n",
      " 48 49 50 51 52 53 54 55 56 57 58 59 60 61 62 63 64 65 66 67 68 69 70 71\n",
      " 72 73 74 75 76 77 78 79 80 81 82 83 84 85 86 87 88 89 90 91 92 93 94 95\n",
      " 96 97 98 99]\n"
     ]
    }
   ],
   "source": [
    "import numpy as np\n",
    "\n",
    "arr = np.arange(0,12,1) # 1차원형태의 배열 : Vector\n",
    "print(arr)\n",
    "\n",
    "# reshape()\n",
    "arr_1 = arr.reshape(3,2,-1) # shape 부분에 -1을 쓰면 : 4행으로 만드는데 열은 알아서 만들어짐 / don't care\n",
    "\n",
    "# 5행 20열 짜리 numpy array 생성\n",
    "arr = np.arange(0,100,1).reshape(5,-1).copy()\n",
    "print(arr)\n",
    "\n",
    "# ravel()\n",
    "# 다차원배열을 1차원배열로 바꿀려면 어떻게 할까요~? => ravel() 함수 사용하면됨!\n",
    "# 새로운 numpy array가 만들어지는게 아니라 View 생성\n",
    "arr_1 = arr.ravel()\n",
    "print(arr_1)\n",
    "\n",
    "\n",
    "# 형태 변경 : reshape, ravel, resize"
   ]
  },
  {
   "cell_type": "code",
   "execution_count": 159,
   "metadata": {},
   "outputs": [
    {
     "name": "stdout",
     "output_type": "stream",
     "text": [
      "[ 0  1  2  3  4  5  6  7  8  9 10 11]\n",
      "[[ 0  1  2  3  4  5]\n",
      " [ 6  7  8  9 10 11]]\n",
      "[100   1   2   3   4   5   6   7   8   9  10  11]\n",
      "[[ 0  1  2  3  4  5]\n",
      " [ 6  7  8  9 10 11]]\n"
     ]
    }
   ],
   "source": [
    "import numpy as np\n",
    "\n",
    "# resize() \n",
    "arr = np.arange(0,12,1)\n",
    "arr1 = np.resize(arr,(2,6)) # arr(1차원배열)=> arr1(2차원배열) 변경\n",
    "print(arr)\n",
    "print(arr1)\n",
    "arr[0] = 100\n",
    "print(arr)\n",
    "print(arr1)\n",
    "\n",
    "# reshape는 view이고 resize는 복사본 => 둘의 차이점 알아야함"
   ]
  },
  {
   "cell_type": "code",
   "execution_count": 162,
   "metadata": {
    "scrolled": true
   },
   "outputs": [
    {
     "name": "stdout",
     "output_type": "stream",
     "text": [
      "index : 0 , item : 10\n",
      "index : 1 , item : 11\n",
      "index : 2 , item : 12\n",
      "index : 3 , item : 13\n",
      "index : 4 , item : 14\n",
      "index : 5 , item : 15\n",
      "index : 6 , item : 16\n",
      "index : 7 , item : 17\n",
      "index : 8 , item : 18\n",
      "index : 9 , item : 19\n",
      "[10 11 12]\n",
      "[100  11  12]\n"
     ]
    }
   ],
   "source": [
    "import numpy as np\n",
    "\n",
    "# enumerate 사용가능\n",
    "arr = np.arange(10,20,1) \n",
    "for (idx,item) in enumerate(arr):\n",
    "    print(\"index : {0} , item : {1}\".format(idx,item))\n",
    "\n",
    "# slicing 할 때 => numpy의 ndarray는 View를 생성하고 python의 list에서는 복사(copy)\n",
    "result = arr[0:3]\n",
    "print(result)\n",
    "arr[0] = 100\n",
    "print(result)"
   ]
  },
  {
   "cell_type": "code",
   "execution_count": 171,
   "metadata": {
    "scrolled": true
   },
   "outputs": [
    {
     "name": "stdout",
     "output_type": "stream",
     "text": [
      "[ 0  1  2  3  4  5  6  7  8  9 10 11]\n",
      "[0 1 2]\n",
      "[ 0  2  4  6  8 10]\n",
      "[[ 0  1  2  3]\n",
      " [ 4  5  6  7]\n",
      " [ 8  9 10 11]\n",
      " [12 13 14 15]]\n",
      "6\n",
      "[4 5 6 7]\n",
      "[[3]\n",
      " [7]]\n"
     ]
    }
   ],
   "source": [
    "import numpy as np\n",
    "\n",
    "arr = np.arange(0,12,1)\n",
    "print(arr)\n",
    "arr_1 = arr[0:3]\n",
    "print(arr_1)\n",
    "arr_1 = arr[0::2] # 시작부터 끝까지 2칸씩 넘어가면서 slicing\n",
    "print(arr_1)\n",
    "\n",
    "# 2차원 형태의 numpy array\n",
    "arr = np.arange(0,16,1).reshape(4,-1).copy()\n",
    "print(arr)\n",
    "print(arr[1,2])  # indexing : 6\n",
    "print(arr[1,:])  # slicing : [4 5 6 7]\n",
    "\n",
    "print(arr[:2,3:])  # slicing : [[3]\n",
    "                              # [7]]"
   ]
  },
  {
   "cell_type": "code",
   "execution_count": 180,
   "metadata": {
    "scrolled": true
   },
   "outputs": [
    {
     "name": "stdout",
     "output_type": "stream",
     "text": [
      "[9 4 0 1 9 0 1 8 9 0]\n",
      "[1 0 0 1 1 0 1 0 1 0]\n",
      "[False  True  True False False  True False  True False  True]\n",
      "[4 0 0 8 0]\n"
     ]
    }
   ],
   "source": [
    "import numpy as np\n",
    "\n",
    "# boolean indexing\n",
    "# 정수형태의 랜덤값을 추출해서 1차원의 numpy array를 생성\n",
    "\n",
    "np.random.seed(10) # seed(값) 값은 상관없다. 랜덤값의 재연을 위해 시드값을 고정!\n",
    "arr = np.random.randint(0,10,(10,))\n",
    "print(arr)\n",
    "\n",
    "# boolean indexing : boolean mask를 만들어서 이를 이용해 indexing을 하는 기법\n",
    "# boolean mask : 값이 True,False로 떨어짐\n",
    "print(arr % 2) # 나머지 구하기\n",
    "print(arr % 2 == 0) # 값이 True,False로 떨어짐\n",
    "print(arr[arr % 2 == 0]) # boolean indexing을 이용해서 true 값만 추출해서 그 위치의 arr에 있는 값 추출\n",
    "                                            # true가 어디있는지 알려주는 mask형태로"
   ]
  },
  {
   "cell_type": "code",
   "execution_count": 27,
   "metadata": {
    "scrolled": true
   },
   "outputs": [
    {
     "name": "stdout",
     "output_type": "stream",
     "text": [
      "[0 1 2 3 4 5 6 7 8 9]\n",
      "0\n",
      "[0 1 2]\n",
      "[[1 2 3]\n",
      " [4 5 6]\n",
      " [7 8 9]]\n",
      "[[10 20 30]\n",
      " [40 50 60]\n",
      " [70 80 90]]\n",
      "[[11 22 33]\n",
      " [44 55 66]\n",
      " [77 88 99]]\n",
      "[[11 22 33]\n",
      " [14 25 36]\n",
      " [17 28 39]]\n",
      "[[ 6  7  8]\n",
      " [ 9 10 11]\n",
      " [12 13 14]]\n",
      "[[1 0 1]\n",
      " [0 1 0]\n",
      " [1 0 1]]\n",
      "[[False  True False]\n",
      " [ True False  True]\n",
      " [False  True False]]\n",
      "[2 4 6 8]\n",
      "[[9 4 0 1 9]\n",
      " [0 1 8 9 0]\n",
      " [8 6 4 3 0]\n",
      " [4 6 8 1 8]\n",
      " [4 1 3 6 5]]\n",
      "1\n",
      "[0 1 8 9 0]\n",
      "[0 1 8]\n",
      "[0 8 0]\n"
     ]
    }
   ],
   "source": [
    "# 2019 - 07 -04\n",
    "#복습\n",
    "\n",
    "import numpy as np\n",
    "\n",
    "## indexing\n",
    "# numpy array 하나를 생성해보기!\n",
    "# python의 range와 같이 특정 구간에 있는 연속적인\n",
    "# 데이터를 이용해서 numpy array를 만드는 경우\n",
    "arr = np.arange(0,10,1)\n",
    "print(arr)\n",
    "print(arr[0]) # indexing\n",
    "\n",
    "## slicing \n",
    "# python의 list에 대한 slicing은 특정 구간에 대한\n",
    "# 데이터를 복사해서 새로운 list를 생성.\n",
    "# numpy array의 slicing은 View를 생성\n",
    "# 원본과 데이터를 공유하고 shape가 다른 ndarray를 생성\n",
    "\n",
    "print(arr[0:3])\n",
    "\n",
    "## bollean indexing \n",
    "## boolean mask :  true와 false로 이루어진  array\n",
    "arr = np.array([[1,2,3],[4,5,6],[7,8,9]])\n",
    "print(arr)\n",
    "\n",
    "# numpy array에 대해 수학적 사칙연산 (+, -, *, /, % ...)을 \n",
    "# 수행하려면 두 개의 numpy array가 같은 shape를 가져야 한다.\n",
    "# 만약 shape이 다르면 broadcasting을 통해서 shape를 맞춰준다.\n",
    "# broadcasting : 모양이 다른 배열들 간의 연산이 어떤 조건을 만족했을 때 가능해지도록 배열을 자동적으로 변환하는 것\n",
    "arr_1 = np.array([[10,20,30],[40,50,60],[70,80,90]])\n",
    "print(arr_1)\n",
    "\n",
    "print(arr + arr_1) \n",
    "\n",
    "arr_1 = np.array([10,20,30])\n",
    "print(arr + arr_1) # broadcasting \n",
    "\n",
    "arr_1 = 5\n",
    "print(arr + arr_1)\n",
    "\n",
    "## % 연산\n",
    "print(arr % 2)\n",
    "print(arr % 2 == 0) # boolena mask를 생성\n",
    "print(arr[arr % 2 == 0]) # boolean indexing : true만 뽑아내서 값 출력\n",
    "\n",
    "## Fancy indexing\n",
    "# numpy array의  index 배열을 이용해서 배열 요소를 참조하는 방법\n",
    "\n",
    "# 랜덤값을 이용해서 numpy array를 생성\n",
    "# 정수형 난수를 생성 : randint(시작(포함),끝(불포함),shape(tuple로표현))\n",
    "# 2 차원으로 생성\n",
    "\n",
    "np.random.seed(10) # 초기값을 고정시켜주는거\n",
    "arr = np.random.randint(0,10,(5,5))\n",
    "print(arr)\n",
    "\n",
    "print(arr[1,1]) # 행과 열에 대한 일반적인 indexing\n",
    "print(arr[1,:]) # 일반적인 indexing + slicing\n",
    "print(arr[1,:3])\n",
    "# [0 1 8 9 0]에서 0  8  0 만 출력할려는 경우 : Fancy indexing사용\n",
    "print(arr[1,[0,2,4]]) # Fancy indexing 0,2,4 각각 index위치값을 적어주면됨"
   ]
  },
  {
   "cell_type": "code",
   "execution_count": 29,
   "metadata": {},
   "outputs": [
    {
     "name": "stdout",
     "output_type": "stream",
     "text": [
      "[[ 9 12 15]\n",
      " [19 26 33]\n",
      " [29 40 51]]\n"
     ]
    }
   ],
   "source": [
    "import numpy as np\n",
    "\n",
    "arr_1 = np.array([[1,2],[3,4],[5,6]]) # 3 X 2\n",
    "arr_2 = np.array([[1,2,3],[4,5,6]]) # 2 X 3\n",
    "print(np.matmul(arr_1,arr_2))"
   ]
  },
  {
   "cell_type": "code",
   "execution_count": 46,
   "metadata": {},
   "outputs": [
    {
     "name": "stdout",
     "output_type": "stream",
     "text": [
      "[[9 4 0 1]\n",
      " [9 0 1 8]\n",
      " [9 0 8 6]]\n",
      "55\n",
      "55\n",
      "4.583333333333333\n",
      "9\n",
      "0\n",
      "3.7960139913101245\n",
      "[[3.         2.         0.         1.        ]\n",
      " [3.         0.         1.         2.82842712]\n",
      " [3.         0.         2.82842712 2.44948974]]\n",
      "15\n",
      "[[ 1  2  3]\n",
      " [ 4  5  6]\n",
      " [ 7  8  9]\n",
      " [10 11 12]]\n",
      "78\n",
      "[22 26 30]\n"
     ]
    }
   ],
   "source": [
    "# numpy array가 제공하는 함수\n",
    "\n",
    "import numpy as np\n",
    "\n",
    "np.random.seed(10) # 초기값 고정\n",
    "arr = np.random.randint(0,10,(3,4)) # 3행 4열\n",
    "print(arr)\n",
    "\n",
    "# 합계\n",
    "print(arr.sum()) \n",
    "print(np.sum(arr)) \n",
    "\n",
    "# 평균\n",
    "print(arr.mean())\n",
    "\n",
    "# 최대값\n",
    "print(arr.max())\n",
    "\n",
    "# 최소값\n",
    "print(arr.min())\n",
    "\n",
    "# 표준편차\n",
    "print(arr.std())\n",
    "\n",
    "# 제곱근\n",
    "print(np.sqrt(arr))\n",
    "\n",
    "### 여기까지는 별로 어렵지 않아요/ ###\n",
    "## 이런 함수를 사용할 때 축(axis)이라는 개념을 이용해서 사용\n",
    "## 위의 함수를 사용할 때 axis를 명시하지 않으면\n",
    "## axis=None으로 설정된다. \n",
    "## => numpy array 전체에 대해 함수를 적용\n",
    "## 축은 숫자로 표현한다. numpy array가 몇차원이냐에 따라 숫자의 의미가 달라짐\n",
    "\n",
    "# 1차원배열\n",
    "arr1 = np.array([1,2,3,4,5])\n",
    "## 1차원의 numpy array가 생성, axis=0 => 열방향\n",
    "print(arr1.sum(axis=0)) # 15 , 1차원은 axis를 0을 쓰던가 안쓰면된다.\n",
    "# print(arr1.sum(axis=1)) # 에러뜸 \n",
    "\n",
    "# 2차원 배열\n",
    "arr = np.array([[1,2,3],[4,5,6],[7,8,9],[10,11,12]])\n",
    "print(arr)\n",
    "print(arr.sum(axis=None))\n",
    "print(arr.sum(axis=0)) #  axis=0 => 행방향"
   ]
  },
  {
   "cell_type": "code",
   "execution_count": 65,
   "metadata": {},
   "outputs": [],
   "source": [
    "## 집계함수의 처리속도(sum)\n",
    "import numpy as np\n",
    "\n",
    "arr_ = np.arange(1000000) # [0,1,2,3, ..... ,999999]"
   ]
  },
  {
   "cell_type": "code",
   "execution_count": 66,
   "metadata": {},
   "outputs": [
    {
     "name": "stderr",
     "output_type": "stream",
     "text": [
      "C:\\ProgramData\\Anaconda3\\envs\\cpu_env\\lib\\site-packages\\ipykernel_launcher.py:4: RuntimeWarning: overflow encountered in long_scalars\n",
      "  after removing the cwd from sys.path.\n"
     ]
    },
    {
     "name": "stdout",
     "output_type": "stream",
     "text": [
      "1783293664\n",
      "Wall time: 343 ms\n"
     ]
    }
   ],
   "source": [
    "%%time\n",
    "## jupyter notebook에서 셀이 수행되는 시간을 찍어줌\n",
    "result = 0\n",
    "for i in arr_:\n",
    "    result += i\n",
    "print(result)    "
   ]
  },
  {
   "cell_type": "code",
   "execution_count": 67,
   "metadata": {
    "scrolled": true
   },
   "outputs": [
    {
     "name": "stdout",
     "output_type": "stream",
     "text": [
      "1783293664\n",
      "Wall time: 1 ms\n"
     ]
    }
   ],
   "source": [
    "%%time\n",
    "print(arr_.sum())"
   ]
  },
  {
   "cell_type": "code",
   "execution_count": 68,
   "metadata": {},
   "outputs": [
    {
     "name": "stdout",
     "output_type": "stream",
     "text": [
      "[1 2 3]\n"
     ]
    }
   ],
   "source": [
    "# np.unique()\n",
    "arr = np.array([1,2,3,1,2,3])\n",
    "print(np.unique(arr))"
   ]
  },
  {
   "cell_type": "code",
   "execution_count": null,
   "metadata": {},
   "outputs": [],
   "source": [
    "## MovieLens 데이터 파일을 이용\n",
    "## Group Lens에서 수집한 영화에 대한 평점 데이터\n",
    "## 영화에 대한 선호도 1점~5점까지로 표현"
   ]
  },
  {
   "cell_type": "code",
   "execution_count": 88,
   "metadata": {},
   "outputs": [
    {
     "name": "stdout",
     "output_type": "stream",
     "text": [
      "[[1.00000000e+00 1.00000000e+00 4.00000000e+00 9.64982703e+08]\n",
      " [1.00000000e+00 3.00000000e+00 4.00000000e+00 9.64981247e+08]\n",
      " [1.00000000e+00 6.00000000e+00 4.00000000e+00 9.64982224e+08]\n",
      " [1.00000000e+00 4.70000000e+01 5.00000000e+00 9.64983815e+08]\n",
      " [1.00000000e+00 5.00000000e+01 5.00000000e+00 9.64982931e+08]]\n"
     ]
    }
   ],
   "source": [
    "# MovieLens Data 파일 분석\n",
    "import numpy as np\n",
    "#  1. 데이터 로딩 (CSV 파일로부터 데이터를 읽어들인다.)\n",
    "# => np.loadtxt()사용 / # tab눌러서 자동완성\n",
    "data = np.loadtxt(\"data/movielens/ratings.csv\",\n",
    "                 delimiter=\",\", dtype=np.float64) \n",
    "# delimiter : 구분자 , dtype-> int32(정수)도 해보기 float64(실수)\n",
    "\n",
    "# 2. 상위 5개의 행만 출력해보기\n",
    "print(data[:5,:]) # data[행 , 열])\n",
    "\n",
    "# 한번 수행하면 메모리에 남아있으니까 셀 바꿔서 하기!"
   ]
  },
  {
   "cell_type": "code",
   "execution_count": 93,
   "metadata": {},
   "outputs": [
    {
     "name": "stdout",
     "output_type": "stream",
     "text": [
      "3.501556983616962\n",
      "3.501556983616962\n",
      "(100836, 4)\n"
     ]
    }
   ],
   "source": [
    "# 모든 영화에 대한 전체 평균 평점은? => 평균 : mean()\n",
    "print(data[:,2].mean())\n",
    "\n",
    "mean_rate = data[:,2].mean()\n",
    "print(mean_rate)\n",
    "print(data.shape)"
   ]
  },
  {
   "cell_type": "code",
   "execution_count": 119,
   "metadata": {},
   "outputs": [
    {
     "name": "stdout",
     "output_type": "stream",
     "text": [
      "[  1.   1.   1. ... 610. 610. 610.]\n"
     ]
    }
   ],
   "source": [
    "## 문제\n",
    "# 각 사용자별 평균 평점은?  1번사용자 :...  ,2번사용자 : ...\n",
    "\n",
    "# for user in data:\n",
    "#     print(\"사용자별 평균 : \")\n",
    "\n",
    "arr_user = data[:,0]\n",
    "\n",
    "\n",
    "print(arr_user)\n",
    "\n",
    "\n",
    "# for user in arr_user:\n",
    "   \n",
    "\n",
    "    print(\"사용자 : {0} , 평균평점 : {1}\".format())\n",
    "        \n"
   ]
  }
 ],
 "metadata": {
  "kernelspec": {
   "display_name": "Python [conda env:cpu_env] *",
   "language": "python",
   "name": "conda-env-cpu_env-py"
  },
  "language_info": {
   "codemirror_mode": {
    "name": "ipython",
    "version": 3
   },
   "file_extension": ".py",
   "mimetype": "text/x-python",
   "name": "python",
   "nbconvert_exporter": "python",
   "pygments_lexer": "ipython3",
   "version": "3.6.8"
  }
 },
 "nbformat": 4,
 "nbformat_minor": 2
}
