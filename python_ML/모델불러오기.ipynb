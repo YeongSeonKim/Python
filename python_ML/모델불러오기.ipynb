{
 "cells": [
  {
   "cell_type": "code",
   "execution_count": null,
   "metadata": {},
   "outputs": [],
   "source": [
    "# import cv2\n",
    "import sys\n",
    "import numpy as np\n",
    "import tensorflow as tf\n",
    "import pandas as pd\n",
    "\n",
    "from PIL import Image\n",
    "import matplotlib.pyplot as plt\n",
    "from skimage import io, color\n",
    "\n",
    "def imgTest(modelPath,imagePath):  \n",
    "    \n",
    "    sess = tf.InteractiveSession()\n",
    "    new_saver = tf.train.import_meta_graph(modelPath + \"/dnn.ckpt.meta\")\n",
    "    new_saver.restore(sess, modelPath + \"/dnn.ckpt\")\n",
    "    \n",
    "    tf.get_default_graph()\n",
    "    \n",
    "    X = sess.graph.get_tensor_by_name(\"input:0\")\n",
    "    drop_rate = sess.graph.get_tensor_by_name(\"drop:0\")\n",
    "    H = sess.graph.get_tensor_by_name(\"hypothesis:0\")\n",
    "    \n",
    "    img = Image.open(imagePath)\n",
    "    img = img.resize((28,28))\n",
    "    \n",
    "    img = np.array(img)\n",
    "    lina_gray = color.rgb2gray(img)\n",
    "    lina_gray = 1 - lina_gray\n",
    "   \n",
    "    plt.imshow(lina_gray, cmap = \"Greys\", interpolation=\"nearest\")\n",
    "   \n",
    "    #plt.show()\n",
    "    \n",
    "    pix = lina_gray.reshape(-1,784)\n",
    "    \n",
    "    result = sess.run(tf.argmax(H,1), \n",
    "                     feed_dict={X:pix,drop_rate:1})\n",
    "    print(result[0])\n",
    "    \n",
    "    \n",
    "imgTest(sys.argv[1],sys.argv[2])\n",
    "#imgTest(\"C:/workspace/imgDeepLearning/src/main/resources/model\",\"C:/workspace/imgDeepLearning/src/main/webapp/upload/7.png\")\n",
    "#imgTest(\"C:/python_ML/yeongseon/cnn/model\",\"C:/workspace/imgDeepLearning/src/main/webapp/upload/7.png\")\n",
    "\n",
    "\n"
   ]
  }
 ],
 "metadata": {
  "kernelspec": {
   "display_name": "Python [conda env:cpu_env] *",
   "language": "python",
   "name": "conda-env-cpu_env-py"
  },
  "language_info": {
   "codemirror_mode": {
    "name": "ipython",
    "version": 3
   },
   "file_extension": ".py",
   "mimetype": "text/x-python",
   "name": "python",
   "nbconvert_exporter": "python",
   "pygments_lexer": "ipython3",
   "version": "3.6.8"
  }
 },
 "nbformat": 4,
 "nbformat_minor": 2
}
